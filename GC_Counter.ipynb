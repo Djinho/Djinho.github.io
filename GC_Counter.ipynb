{
 "cells": [
  {
   "cell_type": "code",
   "execution_count": null,
   "id": "5de4dec9-1d12-45f5-890a-ae4dcb09193c",
   "metadata": {},
   "outputs": [],
   "source": [
    "class BadSequenceError(Exception):\n",
    "    pass\n",
    "\n",
    "def calculate_gc_content(sequence):\n",
    "    gc_count = sequence.count('G') + sequence.count('C')\n",
    "    return (gc_count / len(sequence)) * 100 if len(sequence) > 0 else 0\n",
    "\n",
    "def read_and_compute_gc_content(filename):\n",
    "    acceptable_letters = set(\"ATGCUatgcu\")\n",
    "    sequence = \"\"\n",
    "\n",
    "    with open(filename, 'r') as file:\n",
    "        for line in file:\n",
    "            # Keep only the characters that are acceptable (base pairs)\n",
    "            filtered_sequence = ''.join(char for char in line.upper() if char in acceptable_letters)\n",
    "            sequence += filtered_sequence\n",
    "\n",
    "    if not sequence:\n",
    "        raise BadSequenceError(\"No base pair characters found in the file.\")\n",
    "\n",
    "    gc_content = calculate_gc_content(sequence)\n",
    "    return gc_content\n",
    "\n",
    "# Example usage:\n",
    "filename = 'untitled.fasta'  # Replace with your file path\n",
    "gc_content_percentage = read_and_compute_gc_content(filename)\n",
    "print(f\"GC Content Percentage: {gc_content_percentage}%\")\n"
   ]
  }
 ],
 "metadata": {
  "kernelspec": {
   "display_name": "Python 3 (ipykernel)",
   "language": "python",
   "name": "python3"
  },
  "language_info": {
   "codemirror_mode": {
    "name": "ipython",
    "version": 3
   },
   "file_extension": ".py",
   "mimetype": "text/x-python",
   "name": "python",
   "nbconvert_exporter": "python",
   "pygments_lexer": "ipython3",
   "version": "3.10.13"
  }
 },
 "nbformat": 4,
 "nbformat_minor": 5
}
