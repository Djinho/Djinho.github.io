{
 "cells": [
  {
   "cell_type": "code",
   "execution_count": null,
   "id": "45d74ff4-1735-4b94-9285-7c6280640507",
   "metadata": {},
   "outputs": [],
   "source": [
    "def translate_rna_to_protein(rna_seq):\n",
    "    # Complete codon table mapping RNA codons to amino acids or 'Stop'\n",
    "    codon_table = {\n",
    "        'UUU': 'F', 'CUU': 'L', 'AUU': 'I', 'GUU': 'V',\n",
    "        'UUC': 'F', 'CUC': 'L', 'AUC': 'I', 'GUC': 'V',\n",
    "        'UUA': 'L', 'CUA': 'L', 'AUA': 'I', 'GUA': 'V',\n",
    "        'UUG': 'L', 'CUG': 'L', 'AUG': 'M', 'GUG': 'V',\n",
    "        'UCU': 'S', 'CCU': 'P', 'ACU': 'T', 'GCU': 'A',\n",
    "        'UCC': 'S', 'CCC': 'P', 'ACC': 'T', 'GCC': 'A',\n",
    "        'UCA': 'S', 'CCA': 'P', 'ACA': 'T', 'GCA': 'A',\n",
    "        'UCG': 'S', 'CCG': 'P', 'ACG': 'T', 'GCG': 'A',\n",
    "        'UAU': 'Y', 'CAU': 'H', 'AAU': 'N', 'GAU': 'D',\n",
    "        'UAC': 'Y', 'CAC': 'H', 'AAC': 'N', 'GAC': 'D',\n",
    "        'UAA': 'Stop', 'CAA': 'Q', 'AAA': 'K', 'GAA': 'E',\n",
    "        'UAG': 'Stop', 'CAG': 'Q', 'AAG': 'K', 'GAG': 'E',\n",
    "        'UGU': 'C', 'CGU': 'R', 'AGU': 'S', 'GGU': 'G',\n",
    "        'UGC': 'C', 'CGC': 'R', 'AGC': 'S', 'GGC': 'G',\n",
    "        'UGA': 'Stop', 'CGA': 'R', 'AGA': 'R', 'GGA': 'G',\n",
    "        'UGG': 'W', 'CGG': 'R', 'AGG': 'R', 'GGG': 'G'\n",
    "    }\n",
    "\n",
    "    protein = \"\"\n",
    "\n",
    "    # Iterate through the RNA sequence in steps of 3\n",
    "    for i in range(0, len(rna_seq) - 2, 3):\n",
    "        codon = rna_seq[i:i + 3]  # Extract a codon of 3 bases\n",
    "        amino_acid = codon_table.get(codon)  # Translate the codon\n",
    "\n",
    "        if amino_acid == 'Stop':  # Stop translation if it's a stop codon\n",
    "            break\n",
    "\n",
    "        protein += amino_acid\n",
    "\n",
    "    return protein\n",
    "\n",
    "# Taking user input for the RNA sequence\n",
    "user_input_rna_sequence = input(\"Enter an RNA sequence: \").strip().upper()\n",
    "\n",
    "# Validating the input to ensure it only contains valid RNA bases and is divisible by 3\n",
    "if all(nucleotide in 'AUCG' for nucleotide in user_input_rna_sequence) and len(user_input_rna_sequence) % 3 == 0:\n",
    "    protein_string = translate_rna_to_protein(user_input_rna_sequence)\n",
    "    print(\"Translated Protein String:\", protein_string)\n",
    "else:\n",
    "    print(\"Invalid RNA sequence. Please ensure it only contains A, U, C, G and is divisible by 3.\")\n"
   ]
  }
 ],
 "metadata": {
  "kernelspec": {
   "display_name": "Python 3 (ipykernel)",
   "language": "python",
   "name": "python3"
  },
  "language_info": {
   "codemirror_mode": {
    "name": "ipython",
    "version": 3
   },
   "file_extension": ".py",
   "mimetype": "text/x-python",
   "name": "python",
   "nbconvert_exporter": "python",
   "pygments_lexer": "ipython3",
   "version": "3.10.13"
  }
 },
 "nbformat": 4,
 "nbformat_minor": 5
}
