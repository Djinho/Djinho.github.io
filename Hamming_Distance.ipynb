{
 "cells": [
  {
   "cell_type": "code",
   "execution_count": null,
   "id": "893951b2-e409-48b9-b29a-dd50594d2793",
   "metadata": {},
   "outputs": [],
   "source": [
    "def calculate_hamming_distance(seq1, seq2):\n",
    "    \"\"\"Calculate the Hamming distance between two sequences.\"\"\"\n",
    "    if len(seq1) != len(seq2):\n",
    "        raise ValueError(\"Sequences must be of equal length.\")\n",
    "\n",
    "    distance = 0\n",
    "    for a, b in zip(seq1, seq2):\n",
    "        if a != b:\n",
    "            distance += 1\n",
    "    return distance\n",
    "\n",
    "# Get user input for the two DNA sequences\n",
    "dna_sequence_1 = input(\"Enter the first DNA sequence: \").strip()\n",
    "dna_sequence_2 = input(\"Enter the second DNA sequence: \").strip()\n",
    "\n",
    "# Ensure both sequences are of equal length\n",
    "if len(dna_sequence_1) != len(dna_sequence_2):\n",
    "    print(\"Error: DNA sequences must be of the same length.\")\n",
    "else:\n",
    "    # Calculate the Hamming distance\n",
    "    hamming_distance = calculate_hamming_distance(dna_sequence_1, dna_sequence_2)\n",
    "    print(f\"The Hamming distance is: {hamming_distance}\")\n",
    "    "
   ]
  }
 ],
 "metadata": {
  "kernelspec": {
   "display_name": "Python 3 (ipykernel)",
   "language": "python",
   "name": "python3"
  },
  "language_info": {
   "codemirror_mode": {
    "name": "ipython",
    "version": 3
   },
   "file_extension": ".py",
   "mimetype": "text/x-python",
   "name": "python",
   "nbconvert_exporter": "python",
   "pygments_lexer": "ipython3",
   "version": "3.10.13"
  }
 },
 "nbformat": 4,
 "nbformat_minor": 5
}
