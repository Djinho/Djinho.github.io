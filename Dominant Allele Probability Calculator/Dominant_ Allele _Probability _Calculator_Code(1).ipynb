{
 "cells": [
  {
   "cell_type": "code",
   "execution_count": null,
   "id": "ac267cd7-3ea3-4252-b566-afb9830e53e4",
   "metadata": {},
   "outputs": [],
   "source": [
    "def calculate_dominant_allele_probability(k, m, n):\n",
    "    \"\"\"\n",
    "    Calculate the probability that two randomly selected mating organisms \n",
    "    will produce an individual with at least one dominant allele.\n",
    "\n",
    "    Parameters:\n",
    "    k (int): number of homozygous dominant organisms\n",
    "    m (int): number of heterozygous organisms\n",
    "    n (int): number of homozygous recessive organisms\n",
    "\n",
    "    Returns:\n",
    "    float: probability of offspring with at least one dominant allele\n",
    "    \"\"\"\n",
    "\n",
    "    # Total number of organisms\n",
    "    total = k + m + n\n",
    "\n",
    "    # Probability of drawing two organisms with at least one dominant allele\n",
    "    # We calculate the probability of each combination and sum them up\n",
    "\n",
    "    # 1. Both are homozygous dominant\n",
    "    prob_k_k = (k / total) * ((k - 1) / (total - 1))\n",
    "\n",
    "    # 2. One homozygous dominant and one heterozygous\n",
    "    prob_k_m = (k / total) * (m / (total - 1)) + (m / total) * (k / (total - 1))\n",
    "\n",
    "    # 3. One homozygous dominant and one homozygous recessive\n",
    "    prob_k_n = (k / total) * (n / (total - 1)) + (n / total) * (k / (total - 1))\n",
    "\n",
    "    # 4. Both are heterozygous\n",
    "    prob_m_m = (m / total) * ((m - 1) / (total - 1)) * 0.75\n",
    "\n",
    "    # 5. One heterozygous and one homozygous recessive\n",
    "    prob_m_n = (m / total) * (n / (total - 1)) * 0.5 + (n / total) * (m / (total - 1)) * 0.5\n",
    "\n",
    "    # Sum of all probabilities\n",
    "    total_prob = prob_k_k + prob_k_m + prob_k_n + prob_m_m + prob_m_n\n",
    "\n",
    "    return total_prob\n",
    "\n",
    "# Example use of the function\n",
    "#k, m, n = 2, 2, 2  # Sample dataset\n",
    "#probability = calculate_dominant_allele_probability(k, m, n)\n",
    "#probability\n",
    "\n"
   ]
  }
 ],
 "metadata": {
  "kernelspec": {
   "display_name": "Python 3 (ipykernel)",
   "language": "python",
   "name": "python3"
  },
  "language_info": {
   "codemirror_mode": {
    "name": "ipython",
    "version": 3
   },
   "file_extension": ".py",
   "mimetype": "text/x-python",
   "name": "python",
   "nbconvert_exporter": "python",
   "pygments_lexer": "ipython3",
   "version": "3.10.13"
  }
 },
 "nbformat": 4,
 "nbformat_minor": 5
}
