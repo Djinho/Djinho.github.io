{
 "cells": [
  {
   "cell_type": "code",
   "execution_count": 1,
   "id": "f7b2465e-2d11-4f25-bee3-bc3feced8ac5",
   "metadata": {},
   "outputs": [],
   "source": [
    "# Importing necessary libraries\n",
    "import numpy as np  # For numerical operations\n",
    "import pandas as pd  # For data manipulation and analysis\n",
    "import matplotlib.pyplot as plt  # For plotting and visualization\n",
    "import seaborn as sns  # For enhanced data visualization\n",
    "\n",
    "# Importing machine learning functions from scikit-learn\n",
    "from sklearn import datasets  # To load standard datasets\n",
    "from sklearn.model_selection import train_test_split  # For splitting data into training and test sets\n",
    "from sklearn.preprocessing import StandardScaler  # For feature scaling\n",
    "from sklearn.neighbors import KNeighborsClassifier  # For using the k-Nearest Neighbors classifier\n",
    "from sklearn.metrics import classification_report, confusion_matrix  # For model evaluation\n",
    "\n",
    "# Loading the Iris dataset\n",
    "iris = datasets.load_iris()\n",
    "# Converting the Iris dataset into a pandas DataFrame for easier data handling\n",
    "iris_df = pd.DataFrame(iris.data, columns=iris.feature_names)\n",
    "# Adding a new column 'species' with the species names corresponding to the numeric target codes\n",
    "iris_df['species'] = pd.Categorical.from_codes(iris.target, iris.target_names)\n",
    "\n"
   ]
  },
  {
   "cell_type": "code",
   "execution_count": null,
   "id": "d122f3b6-0b20-4c9e-8508-01161e5e6848",
   "metadata": {},
   "outputs": [],
   "source": [
    "# Exploratory analysis\n",
    "\n",
    "# Display the first few rows of the iris DataFrame for a quick overview\n",
    "iris_df.head()\n",
    "\n",
    "# Generate descriptive statistics that summarize the central tendency, \n",
    "# dispersion, and shape of the dataset’s distribution, excluding NaN values\n",
    "iris_df.describe()\n",
    "\n",
    "# Create a pairplot of the iris DataFrame to visualize the relationships \n",
    "# between its features, color-coded by species for better distinction\n",
    "sns.pairplot(iris_df, hue='species')\n",
    "\n",
    "# Display the pairplot\n",
    "plt.show()\n"
   ]
  },
  {
   "cell_type": "code",
   "execution_count": null,
   "id": "b208e56f-132a-45aa-90b9-080892cde16b",
   "metadata": {},
   "outputs": [],
   "source": [
    "# Prepare the data\n",
    "\n",
    "# Assign feature data to x (independent variables)\n",
    "x = iris.data \n",
    "\n",
    "# Assign target data to y (dependent variable)\n",
    "y = iris.target \n",
    "\n",
    "# Split the dataset into training and testing sets\n",
    "# 70% of the data will be used for training and 30% for testing\n",
    "# random_state is set to ensure reproducibility of results\n",
    "x_train, x_test, y_train, y_test = train_test_split(x, y, test_size=0.3, random_state=42)\n"
   ]
  },
  {
   "cell_type": "code",
   "execution_count": null,
   "id": "a71ce8ea-b591-458e-9325-2824144f1066",
   "metadata": {},
   "outputs": [],
   "source": [
    "# Feature Scaling\n",
    "\n",
    "# Initialize the StandardScaler\n",
    "scaler = StandardScaler()\n",
    "\n",
    "# Fit the scaler to the training data and then transform it\n",
    "# This standardizes the features by removing the mean and scaling to unit variance\n",
    "X_train = scaler.fit_transform(x_train)\n",
    "\n",
    "# Transform the testing data using the same scaler\n",
    "# This ensures that the test data is scaled based on the training data parameters\n",
    "X_test = scaler.transform(x_test)\n"
   ]
  },
  {
   "cell_type": "code",
   "execution_count": null,
   "id": "2e852082-3dd0-4ccb-bdf0-4c686d41ddaa",
   "metadata": {},
   "outputs": [],
   "source": [
    "# Choose and train the model\n",
    "\n",
    "# Initialize the k-Nearest Neighbors classifier with 3 neighbors\n",
    "knn = KNeighborsClassifier(n_neighbors=3)\n",
    "\n",
    "# Train the classifier using the training data\n",
    "knn.fit(x_train, y_train)\n"
   ]
  },
  {
   "cell_type": "code",
   "execution_count": null,
   "id": "9e2fac72-474e-4c1c-9d34-5f5161e81508",
   "metadata": {},
   "outputs": [],
   "source": [
    "# Model evaluation\n",
    "\n",
    "# Use the trained model to make predictions on the test set\n",
    "y_pred = knn.predict(x_test)\n",
    "\n",
    "# Print the confusion matrix to evaluate the accuracy of the classification\n",
    "print(confusion_matrix(y_test, y_pred))\n",
    "\n",
    "# Print a classification report to show various metrics like precision, recall, and F1-score\n",
    "print(classification_report(y_test, y_pred))\n"
   ]
  }
 ],
 "metadata": {
  "kernelspec": {
   "display_name": "Python 3 (ipykernel)",
   "language": "python",
   "name": "python3"
  },
  "language_info": {
   "codemirror_mode": {
    "name": "ipython",
    "version": 3
   },
   "file_extension": ".py",
   "mimetype": "text/x-python",
   "name": "python",
   "nbconvert_exporter": "python",
   "pygments_lexer": "ipython3",
   "version": "3.10.13"
  }
 },
 "nbformat": 4,
 "nbformat_minor": 5
}
